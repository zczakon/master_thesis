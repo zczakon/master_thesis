{
 "cells": [
  {
   "cell_type": "code",
   "execution_count": 3,
   "metadata": {},
   "outputs": [],
   "source": [
    "import itertools\n",
    "import numpy as np"
   ]
  },
  {
   "cell_type": "code",
   "execution_count": 2,
   "metadata": {},
   "outputs": [],
   "source": [
    "def translate_to_lexicographic(generators: iter):\n",
    "    pass\n",
    "\n",
    "def ordered_forms(generators: iter, deg: int):\n",
    "    if not 1<= deg <len(generators):\n",
    "        print('degree not allowed')\n",
    "        return\n",
    "    \n",
    "    #generators=translate_to_lexicographic(generators)\n",
    "    \n",
    "    generators=list(itertools.combinations(generators,deg))\n",
    "    unique=list(set(generators))\n",
    "    return sorted(list(unique))\n",
    "\n",
    "def extract_vector(element): #of the form Chain(1:(0, 1, 0, 0))\n",
    "    element=str(element)\n",
    "    #vector=str((list(cochain.homology(generators=True).values())[1][1][1]))\n",
    "    gen= element[9:len(element)-2]\n",
    "    gen=gen.replace(', ','')\n",
    "    #print('gen[0]: ',gen)\n",
    "    vector=[int(gen[i]) for i in range(len(gen))]\n",
    "    return vector\n",
    "\n",
    "# i have a list of tuples [(Vector space of dimension 1 over Rational Field, Chain(1:(1, 0, 0, 0))),\n",
    "#                         (Vector space of dimension 1 over Rational Field, Chain(1:(0, 1, 0, 0))),\n",
    "#                         (Vector space of dimension 1 over Rational Field, Chain(1:(0, 0, 0, 1)))]\n",
    "    \n",
    "def translate_to_forms(homology_gens: list,deg: int,generators: iter):\n",
    "    \"\"\"\n",
    "    return list of lists which are wedge products of generating forms. list(x^y^z, y^z^w,...)\n",
    "    \"\"\"\n",
    "    #print('homology_gens:',homology_gens)\n",
    "    #print('homology_gens[0]:',homology_gens[0])\n",
    "    homology_gens=homology_gens[0]\n",
    "    \n",
    "    generating_forms=[]\n",
    "    for n in range(len(homology_gens)):\n",
    "        #vector = extract part of a string\n",
    "        vector=extract_vector(homology_gens[n][1])\n",
    "        generating_forms.append([])\n",
    "        for i in range(len(vector)):\n",
    "            if vector[i]!=0:\n",
    "                generating_forms[n].append(ordered_forms(generators,deg)[i])\n",
    "    return generating_forms"
   ]
  },
  {
   "cell_type": "code",
   "execution_count": 1,
   "metadata": {},
   "outputs": [],
   "source": [
    "def cohomology_deg(cohomology: dict, deg: int):\n",
    "    li=[cohomology[key] for key in cohomology.keys() if key==deg]\n",
    "    return li\n",
    "\n",
    "def generate_cohomology(lie_algebra,deg):\n",
    "    generators=list(lie_algebra.gens())\n",
    "    \n",
    "    if deg==0 or deg>=len(generators):\n",
    "        print('degree not allowed')\n",
    "        return\n",
    "    \n",
    "    cochain=lie_algebra.chevalley_eilenberg_complex(dual=True) \n",
    "    cohomology=cochain.homology(generators=True)\n",
    "    cohomologies=[cohomology_deg(cohomology, n) for n in range(len(cohomology.keys()))]\n",
    "    \n",
    "    print(cohomology[deg])\n",
    "    return translate_to_forms(cohomologies[deg],deg=deg,generators=generators)"
   ]
  }
 ],
 "metadata": {
  "kernelspec": {
   "display_name": "Python 3",
   "language": "python",
   "name": "python3"
  },
  "language_info": {
   "codemirror_mode": {
    "name": "ipython",
    "version": 3
   },
   "file_extension": ".py",
   "mimetype": "text/x-python",
   "name": "python",
   "nbconvert_exporter": "python",
   "pygments_lexer": "ipython3",
   "version": "3.7.7"
  }
 },
 "nbformat": 4,
 "nbformat_minor": 4
}
