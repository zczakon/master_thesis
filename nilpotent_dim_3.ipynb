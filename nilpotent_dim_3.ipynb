{
 "cells": [
  {
   "cell_type": "code",
   "execution_count": 1,
   "metadata": {},
   "outputs": [],
   "source": [
    "import cohomology_generation\n"
   ]
  },
  {
   "cell_type": "code",
   "execution_count": 2,
   "metadata": {},
   "outputs": [],
   "source": [
    "dic = {('x1','x2'): {'x3':1}}#, ('y','z'): {'x':1}, ('z','x'): {'y':1}}\n",
    "heisenberg.<x1,x2,x3> = LieAlgebra(QQ, dic)"
   ]
  },
  {
   "cell_type": "code",
   "execution_count": 3,
   "metadata": {},
   "outputs": [],
   "source": [
    "#not necessary\n",
    "cochain=heisenberg.chevalley_eilenberg_complex(dual=True) \n",
    "cohomology=cochain.homology(generators=True)"
   ]
  },
  {
   "cell_type": "code",
   "execution_count": 4,
   "metadata": {},
   "outputs": [
    {
     "name": "stdout",
     "output_type": "stream",
     "text": [
      "[(Vector space of dimension 1 over Rational Field, Chain(2:(0, 1, 0))), (Vector space of dimension 1 over Rational Field, Chain(2:(0, 0, 1)))]\n"
     ]
    },
    {
     "data": {
      "text/plain": [
       "[[(x1, x2)], [(x1, x3)]]"
      ]
     },
     "execution_count": 4,
     "metadata": {},
     "output_type": "execute_result"
    }
   ],
   "source": [
    "cohomology_generation.generate_cohomology(heisenberg,2)"
   ]
  },
  {
   "cell_type": "code",
   "execution_count": null,
   "metadata": {},
   "outputs": [],
   "source": []
  }
 ],
 "metadata": {
  "kernelspec": {
   "display_name": "SageMath 9.2",
   "language": "sage",
   "name": "sagemath"
  },
  "language_info": {
   "codemirror_mode": {
    "name": "ipython",
    "version": 3
   },
   "file_extension": ".py",
   "mimetype": "text/x-python",
   "name": "python",
   "nbconvert_exporter": "python",
   "pygments_lexer": "ipython3",
   "version": "3.7.7"
  }
 },
 "nbformat": 4,
 "nbformat_minor": 4
}
