{
 "cells": [
  {
   "cell_type": "code",
   "execution_count": 10,
   "metadata": {},
   "outputs": [],
   "source": [
    "import cohomology_generation"
   ]
  },
  {
   "cell_type": "code",
   "execution_count": 45,
   "metadata": {},
   "outputs": [],
   "source": [
    "dic17 = {('x1','x2'): {'x7':1}, ('x3','x4'): {'x7':1}, ('x5','x6'): {'x7':1}}\n",
    "L17.<x1,x2,x3,x4,x5,x6,x7> = LieAlgebra(QQ, dic17)\n",
    "\n",
    "dic157 = {('x1','x2'): {'x3':1}, ('x1','x3'): {'x7':1}, ('x2','x4'): {'x7':1}, ('x5','x6'): {'x7':1}}\n",
    "L157.<x1,x2,x3,x4,x5,x6,x7> = LieAlgebra(QQ, dic157)\n",
    "\n",
    "dic147A = {('x1','x2'): {'x4':1}, ('x1','x3'): {'x5':1}, ('x1','x6'): {'x7':1}, ('x2','x5'): {'x7':1},  \n",
    "           ('x3','x4'): {'x7':1}}\n",
    "L147A.<x1,x2,x3,x4,x5,x6,x7> = LieAlgebra(QQ, dic147A)\n",
    "\n",
    "dic147A1 = {('x1','x2'): {'x4':1}, ('x1','x3'): {'x5':1}, ('x1','x6'): {'x7':1}, ('x2','x4'): {'x7':1},  \n",
    "           ('x3','x5'): {'x7':1}}\n",
    "L147A1.<x1,x2,x3,x4,x5,x6,x7> = LieAlgebra(QQ, dic147A1)\n",
    "\n",
    "dic147B = {('x1','x2'): {'x4':1}, ('x1','x3'): {'x5':1}, ('x1','x4'): {'x7':1}, ('x2','x6'): {'x7':1},  \n",
    "           ('x3','x5'): {'x7':1}}\n",
    "L147B.<x1,x2,x3,x4,x5,x6,x7> = LieAlgebra(QQ, dic147B)\n",
    "\n",
    "dic147D = {('x1','x2'): {'x4':1}, ('x1','x3'): {'x6':-1}, ('x1','x5'): {'x7':1}, ('x1','x6'): {'x7':1},  \n",
    "           ('x2','x3'): {'x5':1}, ('x2','x6'): {'x7':1}, ('x3','x4'): {'x7':-2}}\n",
    "L147D.<x1,x2,x3,x4,x5,x6,x7> = LieAlgebra(QQ, dic147D)\n",
    "\n",
    "#lambda= #lambda!=0,1, I(lamdba)=\\frac{(1-lamdba+lambda^2)^3}{lambda^2(lambda-1)^2}\n",
    "#dic147E = {('x1','x2'): {'x4':1}, ('x1','x3'): {'x6':-1}, ('x1','x5'): {'x7':-1}, ('x2','x3'): {'x5':1},  \n",
    "#           ('x2','x6'): {'x5':lambda*1}, ('x3','x4'): {'x7':(1-lamdba)}, ('x3','x4'): {'x7':-2}}\n",
    "#L147E.<x1,x2,x3,x4,x5,x6,x7> = LieAlgebra(QQ, dic147E)\n",
    "\n",
    "#lambda= #lambda>1\n",
    "#dic147E1 = {('x1','x2'): {'x4':1}, ('x2','x3'): {'x5':1}, ('x1','x3'): {'x6':-1}, ('x1','x6'): {'x7':-1*lambda},  \n",
    "#           ('x2','x5'): {'x7':lambda*1}, ('x2','x6'): {'x7':2}, ('x3','x4'): {'x7':-2}}\n",
    "#L147E1.<x1,x2,x3,x4,x5,x6,x7> = LieAlgebra(QQ, dic147E1)\n",
    "\n",
    "dic1457B = {('x1','x2'): {'x3':1}, ('x1','x3'): {'x4':1}, ('x1','x4'): {'x7':1}, ('x2','x3'): {'x7':1},  \n",
    "           ('x5','x6'): {'x7':1}}\n",
    "L1457B.<x1,x2,x3,x4,x5,x6,x7> = LieAlgebra(QQ, dic1457B)\n",
    "\n",
    "dic137B = {('x1','x2'): {'x5':1}, ('x1','x5'): {'x7':1}, ('x2','x4'): {'x7':1}, ('x3','x4'): {'x6':1},  \n",
    "           ('x3','x6'): {'x7':1}}\n",
    "L137B.<x1,x2,x3,x4,x5,x6,x7> = LieAlgebra(QQ, dic137B)\n",
    "\n",
    "dic137B1 = {('x1','x3'): {'x5':1}, ('x1','x4'): {'x6':1}, ('x1','x5'): {'x7':1}, ('x2','x3'): {'x6':-1},  \n",
    "           ('x2','x4'): {'x5':1}, ('x2','x6'): {'x7':1}, ('x3','x4'): {'x7':1}}\n",
    "L137B1.<x1,x2,x3,x4,x5,x6,x7> = LieAlgebra(QQ, dic137B1)\n",
    "\n",
    "dic137D = {('x1','x2'): {'x5':1}, ('x1','x4'): {'x6':1}, ('x1','x6'): {'x7':1}, ('x2','x3'): {'x6':1},  \n",
    "           ('x2','x4'): {'x7':1}, ('x3','x5'): {'x7':-1}}\n",
    "\n"
   ]
  },
  {
   "cell_type": "code",
   "execution_count": 50,
   "metadata": {},
   "outputs": [
    {
     "name": "stdout",
     "output_type": "stream",
     "text": [
      "[(Vector space of dimension 1 over Rational Field, Chain(2:(0, 0, 0, 1, 0, 0, 0, 0, 0, 0, 0, 0, 0, 0, 0, 0, 0, 0, 0, 0, 0))), (Vector space of dimension 1 over Rational Field, Chain(2:(0, 0, 0, 0, 1, 0, 0, 0, 0, 0, 0, 0, 0, 0, 0, 0, 0, 0, 0, 0, 0))), (Vector space of dimension 1 over Rational Field, Chain(2:(0, 0, 0, 0, 0, 0, 1, 0, 0, 0, 0, 0, 0, 0, 0, 0, 0, 0, 0, 0, 0))), (Vector space of dimension 1 over Rational Field, Chain(2:(0, 0, 0, 0, 0, 0, 0, 0, 1, 0, 0, 0, 0, 0, 0, 0, 0, 0, 0, 0, 0))), (Vector space of dimension 1 over Rational Field, Chain(2:(0, 0, 0, 0, 0, 0, 0, 0, 0, 1, 0, 0, 0, 0, 0, 0, 0, 0, 0, 0, 0))), (Vector space of dimension 1 over Rational Field, Chain(2:(0, 0, 0, 0, 0, 0, 0, 0, 0, 0, 0, 0, 0, 0, 0, 0, 0, 0, 1, 0, 0)))]\n"
     ]
    },
    {
     "data": {
      "text/plain": [
       "[[(x2, x7)], [(x6, x7)], [(x1, x6)], [(x3, x4)], [(x4, x5)], [(x1, x3)]]"
      ]
     },
     "execution_count": 50,
     "metadata": {},
     "output_type": "execute_result"
    }
   ],
   "source": [
    "cohomology_generation.generate_cohomology(L1457B,2) #generate_cohomology(lie_algebra,num_of_cohomology)"
   ]
  }
 ],
 "metadata": {
  "kernelspec": {
   "display_name": "SageMath 9.2",
   "language": "sage",
   "name": "sagemath"
  },
  "language_info": {
   "codemirror_mode": {
    "name": "ipython",
    "version": 3
   },
   "file_extension": ".py",
   "mimetype": "text/x-python",
   "name": "python",
   "nbconvert_exporter": "python",
   "pygments_lexer": "ipython3",
   "version": "3.7.7"
  }
 },
 "nbformat": 4,
 "nbformat_minor": 4
}
